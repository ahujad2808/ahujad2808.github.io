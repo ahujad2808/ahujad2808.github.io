{
 "cells": [
  {
   "cell_type": "markdown",
   "id": "6d589906-cd0e-455c-8ed7-54a1cb7277fe",
   "metadata": {},
   "source": [
    "MACHINE FAILURE PREDICTION"
   ]
  },
  {
   "cell_type": "code",
   "execution_count": 7,
   "id": "400de13f-f823-4e70-b820-88b96e9956ab",
   "metadata": {},
   "outputs": [],
   "source": [
    "import numpy as np\n",
    "import pandas as pd "
   ]
  },
  {
   "cell_type": "code",
   "execution_count": 8,
   "id": "2ee8e561-28fa-433f-a8b9-e820258fec0d",
   "metadata": {},
   "outputs": [
    {
     "data": {
      "text/html": [
       "<div>\n",
       "<style scoped>\n",
       "    .dataframe tbody tr th:only-of-type {\n",
       "        vertical-align: middle;\n",
       "    }\n",
       "\n",
       "    .dataframe tbody tr th {\n",
       "        vertical-align: top;\n",
       "    }\n",
       "\n",
       "    .dataframe thead th {\n",
       "        text-align: right;\n",
       "    }\n",
       "</style>\n",
       "<table border=\"1\" class=\"dataframe\">\n",
       "  <thead>\n",
       "    <tr style=\"text-align: right;\">\n",
       "      <th></th>\n",
       "      <th>Machine ID</th>\n",
       "      <th>Location</th>\n",
       "      <th>Machine Age</th>\n",
       "      <th>Operating Hours</th>\n",
       "      <th>Temperature</th>\n",
       "      <th>Pressure</th>\n",
       "      <th>Vibration</th>\n",
       "      <th>Last Maintenance Date</th>\n",
       "      <th>Failure</th>\n",
       "    </tr>\n",
       "  </thead>\n",
       "  <tbody>\n",
       "    <tr>\n",
       "      <th>0</th>\n",
       "      <td>M_1</td>\n",
       "      <td>Offshore Platform 1</td>\n",
       "      <td>7</td>\n",
       "      <td>8905</td>\n",
       "      <td>52.710458</td>\n",
       "      <td>207187.772428</td>\n",
       "      <td>3.424334</td>\n",
       "      <td>2021-08-11</td>\n",
       "      <td>1</td>\n",
       "    </tr>\n",
       "    <tr>\n",
       "      <th>1</th>\n",
       "      <td>M_2</td>\n",
       "      <td>Offshore Platform 1</td>\n",
       "      <td>20</td>\n",
       "      <td>3858</td>\n",
       "      <td>52.561077</td>\n",
       "      <td>409338.911282</td>\n",
       "      <td>9.954492</td>\n",
       "      <td>2021-08-31</td>\n",
       "      <td>0</td>\n",
       "    </tr>\n",
       "    <tr>\n",
       "      <th>2</th>\n",
       "      <td>M_3</td>\n",
       "      <td>Refinery 1</td>\n",
       "      <td>15</td>\n",
       "      <td>7095</td>\n",
       "      <td>52.768825</td>\n",
       "      <td>475921.873983</td>\n",
       "      <td>0.656818</td>\n",
       "      <td>2019-09-18</td>\n",
       "      <td>0</td>\n",
       "    </tr>\n",
       "    <tr>\n",
       "      <th>3</th>\n",
       "      <td>M_4</td>\n",
       "      <td>Offshore Platform 2</td>\n",
       "      <td>11</td>\n",
       "      <td>3219</td>\n",
       "      <td>136.632773</td>\n",
       "      <td>174270.563639</td>\n",
       "      <td>4.705372</td>\n",
       "      <td>2019-09-22</td>\n",
       "      <td>0</td>\n",
       "    </tr>\n",
       "    <tr>\n",
       "      <th>4</th>\n",
       "      <td>M_5</td>\n",
       "      <td>Offshore Platform 2</td>\n",
       "      <td>8</td>\n",
       "      <td>8058</td>\n",
       "      <td>119.275650</td>\n",
       "      <td>308153.881075</td>\n",
       "      <td>8.312978</td>\n",
       "      <td>2023-03-27</td>\n",
       "      <td>0</td>\n",
       "    </tr>\n",
       "  </tbody>\n",
       "</table>\n",
       "</div>"
      ],
      "text/plain": [
       "  Machine ID             Location  Machine Age  Operating Hours  Temperature  \\\n",
       "0        M_1  Offshore Platform 1            7             8905    52.710458   \n",
       "1        M_2  Offshore Platform 1           20             3858    52.561077   \n",
       "2        M_3           Refinery 1           15             7095    52.768825   \n",
       "3        M_4  Offshore Platform 2           11             3219   136.632773   \n",
       "4        M_5  Offshore Platform 2            8             8058   119.275650   \n",
       "\n",
       "        Pressure  Vibration Last Maintenance Date  Failure  \n",
       "0  207187.772428   3.424334            2021-08-11        1  \n",
       "1  409338.911282   9.954492            2021-08-31        0  \n",
       "2  475921.873983   0.656818            2019-09-18        0  \n",
       "3  174270.563639   4.705372            2019-09-22        0  \n",
       "4  308153.881075   8.312978            2023-03-27        0  "
      ]
     },
     "execution_count": 8,
     "metadata": {},
     "output_type": "execute_result"
    }
   ],
   "source": [
    "machine = pd.read_csv(\"ongc_data.csv\")\n",
    "machine.head()"
   ]
  },
  {
   "cell_type": "code",
   "execution_count": 12,
   "id": "7ccfb8a4-1eea-4c4d-a772-4a5a7c400345",
   "metadata": {},
   "outputs": [
    {
     "data": {
      "text/plain": [
       "Location\n",
       "Refinery 2             20227\n",
       "Offshore Platform 1    20099\n",
       "Offshore Platform 2    19963\n",
       "Pipeline 1             19930\n",
       "Refinery 1             19781\n",
       "Name: count, dtype: int64"
      ]
     },
     "execution_count": 12,
     "metadata": {},
     "output_type": "execute_result"
    }
   ],
   "source": [
    "machine['Location'].value_counts()\n"
   ]
  },
  {
   "cell_type": "markdown",
   "id": "01d3fc31-80a6-4249-97ef-5848b703d8fe",
   "metadata": {},
   "source": [
    "ASK SIX QUESTIONS\n"
   ]
  },
  {
   "cell_type": "code",
   "execution_count": 13,
   "id": "3fcae39e-d906-4d3e-9c5b-07fb2b1c46b6",
   "metadata": {},
   "outputs": [
    {
     "data": {
      "text/plain": [
       "(100000, 9)"
      ]
     },
     "execution_count": 13,
     "metadata": {},
     "output_type": "execute_result"
    }
   ],
   "source": [
    "machine.shape"
   ]
  },
  {
   "cell_type": "code",
   "execution_count": 14,
   "id": "3d6cb9b0-ca1f-4438-9d1f-ae530fd90c9c",
   "metadata": {},
   "outputs": [
    {
     "data": {
      "text/plain": [
       "Machine ID               0\n",
       "Location                 0\n",
       "Machine Age              0\n",
       "Operating Hours          0\n",
       "Temperature              0\n",
       "Pressure                 0\n",
       "Vibration                0\n",
       "Last Maintenance Date    0\n",
       "Failure                  0\n",
       "dtype: int64"
      ]
     },
     "execution_count": 14,
     "metadata": {},
     "output_type": "execute_result"
    }
   ],
   "source": [
    "machine.isnull().sum()"
   ]
  },
  {
   "cell_type": "code",
   "execution_count": 15,
   "id": "d7bf6369-28e3-48be-8f60-534fa6427a68",
   "metadata": {},
   "outputs": [
    {
     "data": {
      "text/plain": [
       "np.int64(0)"
      ]
     },
     "execution_count": 15,
     "metadata": {},
     "output_type": "execute_result"
    }
   ],
   "source": [
    "machine.duplicated().sum()"
   ]
  },
  {
   "cell_type": "code",
   "execution_count": 16,
   "id": "d9cd5577-6438-4496-8957-e7dc211aeba9",
   "metadata": {},
   "outputs": [
    {
     "name": "stdout",
     "output_type": "stream",
     "text": [
      "<class 'pandas.core.frame.DataFrame'>\n",
      "RangeIndex: 100000 entries, 0 to 99999\n",
      "Data columns (total 9 columns):\n",
      " #   Column                 Non-Null Count   Dtype  \n",
      "---  ------                 --------------   -----  \n",
      " 0   Machine ID             100000 non-null  object \n",
      " 1   Location               100000 non-null  object \n",
      " 2   Machine Age            100000 non-null  int64  \n",
      " 3   Operating Hours        100000 non-null  int64  \n",
      " 4   Temperature            100000 non-null  float64\n",
      " 5   Pressure               100000 non-null  float64\n",
      " 6   Vibration              100000 non-null  float64\n",
      " 7   Last Maintenance Date  100000 non-null  object \n",
      " 8   Failure                100000 non-null  int64  \n",
      "dtypes: float64(3), int64(3), object(3)\n",
      "memory usage: 6.9+ MB\n"
     ]
    }
   ],
   "source": [
    "machine.info()\n"
   ]
  },
  {
   "cell_type": "code",
   "execution_count": 21,
   "id": "f8efaade-9492-451e-929c-240617bf48b3",
   "metadata": {},
   "outputs": [
    {
     "name": "stdout",
     "output_type": "stream",
     "text": [
      "Machine ID                object\n",
      "Location                  object\n",
      "Machine Age                int64\n",
      "Operating Hours            int64\n",
      "Temperature              float64\n",
      "Pressure                 float64\n",
      "Vibration                float64\n",
      "Last Maintenance Date     object\n",
      "Failure                    int64\n",
      "dtype: object\n"
     ]
    }
   ],
   "source": [
    "import pandas as pd\n",
    "\n",
    "# Read the CSV file into a DataFrame\n",
    "machine = pd.read_csv(\"ongc_data.csv\")\n",
    "\n",
    "# Check data types of columns\n",
    "print(machine.dtypes)\n",
    "\n",
    "# Select only numeric columns\n",
    "numeric_columns = machine.select_dtypes(include=['float64', 'int64']).columns\n",
    "machine_numeric = machine[numeric_columns]\n",
    "\n",
    "# Compute correlations\n",
    "correlations = machine_numeric.corr()\n",
    "\n"
   ]
  },
  {
   "cell_type": "markdown",
   "id": "8f84ef4c-c3ed-4805-958d-1e332e418cdf",
   "metadata": {},
   "source": [
    "ENCODING THE TARGET VALUE"
   ]
  },
  {
   "cell_type": "code",
   "execution_count": 25,
   "id": "6ae7517e-d5c1-428b-89a6-5333502d305a",
   "metadata": {},
   "outputs": [],
   "source": [
    "\n",
    "#from sklearn.preprocessing import LabelEncoder\n",
    "#le = LabelEncoder()"
   ]
  },
  {
   "cell_type": "code",
   "execution_count": 4,
   "id": "6a7c04d5-7573-4ddc-b808-a9ace7281c6c",
   "metadata": {},
   "outputs": [
    {
     "data": {
      "text/plain": [
       "['machine_failure_model.pkl']"
      ]
     },
     "execution_count": 4,
     "metadata": {},
     "output_type": "execute_result"
    }
   ],
   "source": [
    "import pandas as pd\n",
    "from sklearn.model_selection import train_test_split\n",
    "from sklearn.preprocessing import StandardScaler, OneHotEncoder\n",
    "from sklearn.compose import ColumnTransformer\n",
    "from sklearn.pipeline import Pipeline\n",
    "from sklearn.ensemble import RandomForestClassifier\n",
    "import joblib\n",
    "\n",
    "# Load data from the correct CSV file\n",
    "data = pd.read_csv('ongc_data.csv')\n",
    "\n",
    "# Convert 'Last Maintenance Date' to datetime\n",
    "data['Last Maintenance Date'] = pd.to_datetime(data['Last Maintenance Date'])\n",
    "\n",
    "# Separate features and target\n",
    "X = data.drop(['Machine ID', 'Failure'], axis=1)\n",
    "y = data['Failure']\n",
    "\n",
    "# Preprocessing pipeline\n",
    "numeric_features = ['Machine Age', 'Operating Hours', 'Temperature', 'Pressure', 'Vibration']\n",
    "categorical_features = ['Location']\n",
    "\n",
    "numeric_transformer = Pipeline(steps=[\n",
    "    ('scaler', StandardScaler())\n",
    "])\n",
    "\n",
    "categorical_transformer = Pipeline(steps=[\n",
    "    ('onehot', OneHotEncoder(handle_unknown='ignore'))  # Handle unknown categories\n",
    "])\n",
    "\n",
    "preprocessor = ColumnTransformer(\n",
    "    transformers=[\n",
    "        ('num', numeric_transformer, numeric_features),\n",
    "        ('cat', categorical_transformer, categorical_features)\n",
    "    ])\n",
    "\n",
    "# Create the preprocessing and training pipeline\n",
    "pipeline = Pipeline(steps=[('preprocessor', preprocessor),\n",
    "                           ('classifier', RandomForestClassifier(random_state=42))])\n",
    "\n",
    "# Train-Test Split\n",
    "X_train, X_test, y_train, y_test = train_test_split(X, y, test_size=0.2, random_state=42)\n",
    "\n",
    "# Training\n",
    "pipeline.fit(X_train, y_train)\n",
    "\n",
    "# Save the model and pipeline\n",
    "joblib.dump(pipeline, 'machine_failure_model.pkl')\n",
    "\n"
   ]
  },
  {
   "cell_type": "markdown",
   "id": "44d6c8b8-04bd-4260-81c9-b743a8bc3e7d",
   "metadata": {},
   "source": [
    "Prediction code\n"
   ]
  },
  {
   "cell_type": "code",
   "execution_count": null,
   "id": "9446b68b-64bf-4e4e-abb5-418c31823be4",
   "metadata": {},
   "outputs": [],
   "source": [
    "import joblib\n",
    "import pandas as pd\n",
    "from datetime import datetime\n",
    "\n",
    "# Load the trained model\n",
    "pipeline = joblib.load('machine_failure_model.pkl')\n",
    "\n",
    "def get_user_input():\n",
    "    # Collect user input\n",
    "    location = input(\"Enter the location: \")\n",
    "    machine_age = int(input(\"Enter the machine age: \"))\n",
    "    operating_hours = int(input(\"Enter the operating hours: \"))\n",
    "    temperature = float(input(\"Enter the temperature: \"))\n",
    "    pressure = float(input(\"Enter the pressure: \"))\n",
    "    vibration = float(input(\"Enter the vibration: \"))\n",
    "    last_maintenance_date = input(\"Enter the last maintenance date (YYYY-MM-DD): \")\n",
    "\n",
    "    # Convert date to datetime object\n",
    "    last_maintenance_date = datetime.strptime(last_maintenance_date, '%Y-%m-%d')\n",
    "\n",
    "    # Create a DataFrame for the input data\n",
    "    user_data = pd.DataFrame({\n",
    "        'Location': [location],\n",
    "        'Machine Age': [machine_age],\n",
    "        'Operating Hours': [operating_hours],\n",
    "        'Temperature': [temperature],\n",
    "        'Pressure': [pressure],\n",
    "        'Vibration': [vibration],\n",
    "        'Last Maintenance Date': [last_maintenance_date]\n",
    "    })\n",
    "\n",
    "    return user_data\n",
    "\n",
    "def predict_failure(user_data):\n",
    "    # Predict using the trained model\n",
    "    prediction = pipeline.predict(user_data)\n",
    "    probability = pipeline.predict_proba(user_data)\n",
    "\n",
    "    return prediction, probability\n",
    "\n",
    "if __name__ == \"__main__\":\n",
    "    user_data = get_user_input()\n",
    "    prediction, probability = predict_failure(user_data)\n",
    "\n",
    "    print(\"Prediction (1: Failure, 0: No Failure):\", prediction[0])\n",
    "    print(\"Probability of Failure:\", probability[0][1])\n"
   ]
  },
  {
   "cell_type": "markdown",
   "id": "1d41419b-acc3-4e72-862d-5332e5312892",
   "metadata": {},
   "source": [
    "Connecting backend with front end "
   ]
  },
  {
   "cell_type": "code",
   "execution_count": 9,
   "id": "d818d468-078a-4911-a40d-d3e9a574e448",
   "metadata": {},
   "outputs": [],
   "source": [
    "import pickle\n",
    "pickle.dump(train_test_split,open('model.pkl','wb'))"
   ]
  },
  {
   "cell_type": "code",
   "execution_count": null,
   "id": "71d14380-4888-41b9-b2e9-44acf86ec870",
   "metadata": {},
   "outputs": [],
   "source": []
  },
  {
   "cell_type": "code",
   "execution_count": null,
   "id": "18fec1f5-3411-40e0-b5c0-936193b3b64f",
   "metadata": {},
   "outputs": [],
   "source": []
  }
 ],
 "metadata": {
  "kernelspec": {
   "display_name": "Python 3 (ipykernel)",
   "language": "python",
   "name": "python3"
  },
  "language_info": {
   "codemirror_mode": {
    "name": "ipython",
    "version": 3
   },
   "file_extension": ".py",
   "mimetype": "text/x-python",
   "name": "python",
   "nbconvert_exporter": "python",
   "pygments_lexer": "ipython3",
   "version": "3.12.4"
  }
 },
 "nbformat": 4,
 "nbformat_minor": 5
}
